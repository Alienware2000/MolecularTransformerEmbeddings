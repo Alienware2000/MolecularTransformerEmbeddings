{
 "cells": [
  {
   "cell_type": "code",
   "execution_count": 1,
   "metadata": {},
   "outputs": [],
   "source": [
    "import os\n",
    "import numpy as np"
   ]
  },
  {
   "cell_type": "code",
   "execution_count": 3,
   "metadata": {},
   "outputs": [],
   "source": [
    "assays_path = \"binding_datasets/\" #tsvs to read from\n",
    "embeddings_path = \"embedding_binaries/\" #h5py datasets to write out"
   ]
  },
  {
   "cell_type": "markdown",
   "metadata": {},
   "source": [
    "# Load Assay TSVs"
   ]
  },
  {
   "cell_type": "code",
   "execution_count": 4,
   "metadata": {},
   "outputs": [
    {
     "name": "stdout",
     "output_type": "stream",
     "text": [
      "['652067.tsv', '1053197.tsv', 'hiv1_protease.tsv']\n"
     ]
    }
   ],
   "source": [
    "assays = [x for x in os.listdir(assays_path) if x.endswith('.tsv')]\n",
    "print(assays)"
   ]
  },
  {
   "cell_type": "code",
   "execution_count": 35,
   "metadata": {},
   "outputs": [
    {
     "data": {
      "text/plain": [
       "'hiv1_protease.tsv'"
      ]
     },
     "execution_count": 35,
     "metadata": {},
     "output_type": "execute_result"
    }
   ],
   "source": [
    "assay_name = assays[2] #pick which assay\n",
    "assay_name"
   ]
  },
  {
   "cell_type": "code",
   "execution_count": 14,
   "metadata": {},
   "outputs": [],
   "source": [
    "def read_assay(assay_path):\n",
    "    assay = {}\n",
    "    with open(assay_path, \"r\") as f:\n",
    "        lines = [x.strip().split('\\t') for x in f.readlines()]\n",
    "        for i, column in enumerate(lines[0]):\n",
    "            assay[column] = [line[i] for line in lines[1:]]\n",
    "    return assay"
   ]
  },
  {
   "cell_type": "code",
   "execution_count": 15,
   "metadata": {},
   "outputs": [],
   "source": [
    "assay = read_assay(assays_path + assay_name)"
   ]
  },
  {
   "cell_type": "code",
   "execution_count": 16,
   "metadata": {},
   "outputs": [
    {
     "data": {
      "text/plain": [
       "dict_keys(['CID', 'CanonicalSMILES', 'IUPACName', 'result', 'binding'])"
      ]
     },
     "execution_count": 16,
     "metadata": {},
     "output_type": "execute_result"
    }
   ],
   "source": [
    "assay.keys()"
   ]
  },
  {
   "cell_type": "code",
   "execution_count": 17,
   "metadata": {},
   "outputs": [],
   "source": [
    "result = np.array([float(result) for result in assay['result']], dtype=np.float32)\n",
    "binding = np.array([int(result) for result in assay['binding']], dtype=np.int32)"
   ]
  },
  {
   "cell_type": "code",
   "execution_count": 18,
   "metadata": {},
   "outputs": [
    {
     "data": {
      "text/plain": [
       "2159"
      ]
     },
     "execution_count": 18,
     "metadata": {},
     "output_type": "execute_result"
    }
   ],
   "source": [
    "binding.sum()"
   ]
  },
  {
   "cell_type": "code",
   "execution_count": 19,
   "metadata": {},
   "outputs": [
    {
     "name": "stdout",
     "output_type": "stream",
     "text": [
      "7462\n"
     ]
    }
   ],
   "source": [
    "num_instances = len(assay['CanonicalSMILES'])\n",
    "print(num_instances)"
   ]
  },
  {
   "cell_type": "markdown",
   "metadata": {},
   "source": [
    "# Load Pretrained Transformer"
   ]
  },
  {
   "cell_type": "code",
   "execution_count": 20,
   "metadata": {},
   "outputs": [],
   "source": [
    "import torch\n",
    "import torch.nn as nn\n",
    "import torch.nn.functional as F\n",
    "import itertools\n",
    "\n",
    "import sys\n",
    "sys.path.insert(1, '../') #make parent folder visible\n",
    "from transformer import Transformer, create_masks, nopeak_mask"
   ]
  },
  {
   "cell_type": "code",
   "execution_count": 21,
   "metadata": {},
   "outputs": [],
   "source": [
    "checkpoint_dir = \"../checkpoints/\""
   ]
  },
  {
   "cell_type": "code",
   "execution_count": 22,
   "metadata": {},
   "outputs": [],
   "source": [
    "MAX_LEN = 256\n",
    "MODEL_DIM = 512\n",
    "N_LAYERS = 6"
   ]
  },
  {
   "cell_type": "code",
   "execution_count": 23,
   "metadata": {},
   "outputs": [
    {
     "name": "stdout",
     "output_type": "stream",
     "text": [
      "cuda\n"
     ]
    }
   ],
   "source": [
    "DEVICE = torch.device(\"cuda\" if torch.cuda.is_available() else \"cpu\")\n",
    "print(DEVICE)\n",
    "TRANSFORMER_DEVICE = DEVICE #torch.device(\"cpu\")"
   ]
  },
  {
   "cell_type": "code",
   "execution_count": 24,
   "metadata": {},
   "outputs": [],
   "source": [
    "PRINTABLE_ASCII_CHARS = 95\n",
    "\n",
    "_extra_chars = [\"seq_start\", \"seq_end\", \"pad\"]\n",
    "EXTRA_CHARS = {key: chr(PRINTABLE_ASCII_CHARS + i) for i, key in enumerate(_extra_chars)}\n",
    "ALPHABET_SIZE = PRINTABLE_ASCII_CHARS + len(EXTRA_CHARS)"
   ]
  },
  {
   "cell_type": "code",
   "execution_count": 25,
   "metadata": {},
   "outputs": [],
   "source": [
    "def find_ckpts(*args, **kwargs):\n",
    "    ckpts = os.listdir(checkpoint_dir)\n",
    "    str_args = [str(x) for x in itertools.chain(args, kwargs.values())]\n",
    "    return [checkpoint_dir + ckpt for ckpt in ckpts if all([arg in ckpt.replace(\".\", \"_\").split(\"_\") for arg in str_args])]"
   ]
  },
  {
   "cell_type": "code",
   "execution_count": 26,
   "metadata": {},
   "outputs": [],
   "source": [
    "def encode_char(c):\n",
    "    return ord(c) - 32\n",
    "\n",
    "def decode_char(n):\n",
    "    return chr(n + 32)"
   ]
  },
  {
   "cell_type": "code",
   "execution_count": 37,
   "metadata": {},
   "outputs": [],
   "source": [
    "def encode_string(string, start_char=chr(0)):\n",
    "    return torch.tensor([ord(start_char)] + [encode_char(c) for c in string])\n",
    "\n",
    "def encode_string_np(string, start_char=chr(0), pad_char=chr(0)):\n",
    "    if len(string) > 255:\n",
    "        string = string[:255]\n",
    "        \n",
    "    arr = np.full((256,), ord(pad_char), dtype=np.float32)\n",
    "    arr[:len(string)+1] = np.array([ord(start_char)] + [encode_char(c) for c in string])\n",
    "    return arr"
   ]
  },
  {
   "cell_type": "code",
   "execution_count": 28,
   "metadata": {},
   "outputs": [],
   "source": [
    "def pad_tensors(tensors, pad_char=chr(0), max_len=None):\n",
    "    if not max_len:\n",
    "        max_len = max([t.shape[0] for t in tensors]) + 1\n",
    "        \n",
    "    padded_tensors = torch.full((len(tensors), max_len), ord(pad_char), dtype=torch.long)\n",
    "    for i, tensor in enumerate(tensors):\n",
    "        padded_tensors[i, 0:tensor.shape[0]] = tensor\n",
    "        \n",
    "    return padded_tensors"
   ]
  },
  {
   "cell_type": "markdown",
   "metadata": {},
   "source": [
    "### Select Weights Checkpoint"
   ]
  },
  {
   "cell_type": "code",
   "execution_count": 30,
   "metadata": {},
   "outputs": [
    {
     "name": "stdout",
     "output_type": "stream",
     "text": [
      "['../checkpoints/pretrained.ckpt']\n"
     ]
    }
   ],
   "source": [
    "found = find_ckpts()\n",
    "print(found)\n",
    "load_path = found[0] if len(found) > 0 else \"\""
   ]
  },
  {
   "cell_type": "code",
   "execution_count": 31,
   "metadata": {},
   "outputs": [],
   "source": [
    "model = Transformer(ALPHABET_SIZE, MODEL_DIM, N_LAYERS)\n",
    "model = nn.DataParallel(model)\n",
    "model = model.to(TRANSFORMER_DEVICE)"
   ]
  },
  {
   "cell_type": "code",
   "execution_count": 32,
   "metadata": {},
   "outputs": [],
   "source": [
    "checkpoint = torch.load(load_path)\n",
    "model.load_state_dict(checkpoint['state_dict'])\n",
    "model = model.eval()"
   ]
  },
  {
   "cell_type": "markdown",
   "metadata": {},
   "source": [
    "# Create H5PY Dataset File"
   ]
  },
  {
   "cell_type": "code",
   "execution_count": 33,
   "metadata": {},
   "outputs": [],
   "source": [
    "import h5py"
   ]
  },
  {
   "cell_type": "code",
   "execution_count": 36,
   "metadata": {},
   "outputs": [
    {
     "name": "stdout",
     "output_type": "stream",
     "text": [
      "embedding_binaries/hiv1_protease_2.hdf5\n"
     ]
    }
   ],
   "source": [
    "transformer_epoch = 2\n",
    "assay_name = assay_name.replace(\".tsv\", \"_\" + str(transformer_epoch) + \".hdf5\")\n",
    "assay_path = embeddings_path + assay_name\n",
    "print(assay_path)"
   ]
  },
  {
   "cell_type": "code",
   "execution_count": null,
   "metadata": {},
   "outputs": [],
   "source": [
    "f = h5py.File(assay_path, 'w-')"
   ]
  },
  {
   "cell_type": "code",
   "execution_count": null,
   "metadata": {},
   "outputs": [],
   "source": [
    "embeddings = f.create_dataset(\"embeddings\", (num_instances, 256, 512), dtype=np.float32)"
   ]
  },
  {
   "cell_type": "code",
   "execution_count": null,
   "metadata": {},
   "outputs": [],
   "source": [
    "result_dset = f.create_dataset(\"result\", (num_instances,), dtype=np.float32)\n",
    "binding_dset = f.create_dataset(\"binding\", (num_instances,), dtype=np.int32)"
   ]
  },
  {
   "cell_type": "code",
   "execution_count": null,
   "metadata": {},
   "outputs": [],
   "source": [
    "smiles_enc = f.create_dataset(\"smiles\", (num_instances, 256), dtype=np.float32)"
   ]
  },
  {
   "cell_type": "code",
   "execution_count": null,
   "metadata": {},
   "outputs": [],
   "source": [
    "with torch.no_grad():\n",
    "    for i, smiles in enumerate(assay['CanonicalSMILES']):\n",
    "        encoded = encode_string(smiles, start_char=EXTRA_CHARS['seq_start']).unsqueeze(0).to(TRANSFORMER_DEVICE)\n",
    "        encoded = encoded[:,:MAX_LEN]\n",
    "        mask = create_masks(encoded)\n",
    "        embedding = model.module.encoder(encoded, mask)[0].cpu().numpy()\n",
    "        embeddings[i,:embedding.shape[0],:] = embedding\n",
    "        result_dset[i] = result[i]\n",
    "        binding_dset[i] = binding[i]\n",
    "        \n",
    "        encoded = encode_string_np(smiles, start_char=EXTRA_CHARS['seq_start'], pad_char=EXTRA_CHARS['pad'])\n",
    "        encoded = encoded / ALPHABET_SIZE\n",
    "        smiles_enc[i,:] = encoded\n",
    "        \n",
    "        if i % 1000 == 0:\n",
    "            print(i)"
   ]
  },
  {
   "cell_type": "code",
   "execution_count": null,
   "metadata": {},
   "outputs": [],
   "source": [
    "f.close()"
   ]
  }
 ],
 "metadata": {
  "kernelspec": {
   "display_name": "Python 3",
   "language": "python",
   "name": "python3"
  },
  "language_info": {
   "codemirror_mode": {
    "name": "ipython",
    "version": 3
   },
   "file_extension": ".py",
   "mimetype": "text/x-python",
   "name": "python",
   "nbconvert_exporter": "python",
   "pygments_lexer": "ipython3",
   "version": "3.6.8"
  }
 },
 "nbformat": 4,
 "nbformat_minor": 2
}
