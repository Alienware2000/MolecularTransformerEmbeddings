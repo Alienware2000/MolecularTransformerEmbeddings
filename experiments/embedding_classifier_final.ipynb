{
 "cells": [
  {
   "cell_type": "code",
   "execution_count": 1,
   "metadata": {},
   "outputs": [
    {
     "name": "stdout",
     "output_type": "stream",
     "text": [
      "Requirement already satisfied: h5py in /usr/local/lib/python3.6/dist-packages\r\n",
      "Requirement already satisfied: sklearn in /usr/local/lib/python3.6/dist-packages\r\n",
      "Requirement already satisfied: numpy>=1.7 in /usr/local/lib/python3.6/dist-packages (from h5py)\r\n",
      "Requirement already satisfied: six in /usr/lib/python3/dist-packages (from h5py)\r\n",
      "Requirement already satisfied: scikit-learn in /usr/local/lib/python3.6/dist-packages (from sklearn)\r\n",
      "Requirement already satisfied: joblib>=0.11 in /usr/local/lib/python3.6/dist-packages (from scikit-learn->sklearn)\r\n",
      "Requirement already satisfied: scipy>=0.17.0 in /usr/local/lib/python3.6/dist-packages (from scikit-learn->sklearn)\r\n"
     ]
    }
   ],
   "source": [
    "#if not already installed\n",
    "!python3 -m pip install h5py sklearn"
   ]
  },
  {
   "cell_type": "code",
   "execution_count": 6,
   "metadata": {},
   "outputs": [],
   "source": [
    "#imports\n",
    "import os\n",
    "import h5py\n",
    "import torch\n",
    "import torch.nn as nn\n",
    "import torch.nn.functional as F\n",
    "import torch.optim as optim\n",
    "import numpy as np\n",
    "import time\n",
    "import functools\n",
    "import matplotlib.pyplot as plt\n",
    "import math\n",
    "import scipy\n",
    "\n",
    "from sklearn import svm, datasets\n",
    "from sklearn.metrics import auc\n",
    "from sklearn.metrics import plot_roc_curve, roc_curve, roc_auc_score\n",
    "from sklearn.model_selection import StratifiedKFold\n",
    "\n",
    "import sys\n",
    "sys.path.insert(1, '../') #make parent folder visible\n",
    "from transformer import CosineWithRestarts"
   ]
  },
  {
   "cell_type": "code",
   "execution_count": 46,
   "metadata": {},
   "outputs": [],
   "source": [
    "embeddings_path = \"embedding_binaries/\""
   ]
  },
  {
   "cell_type": "code",
   "execution_count": 8,
   "metadata": {},
   "outputs": [],
   "source": [
    "BATCH_SIZE = 128\n",
    "EPOCHS = 10"
   ]
  },
  {
   "cell_type": "code",
   "execution_count": 9,
   "metadata": {},
   "outputs": [
    {
     "name": "stdout",
     "output_type": "stream",
     "text": [
      "cuda\n"
     ]
    }
   ],
   "source": [
    "DEVICE = torch.device(\"cuda\" if torch.cuda.is_available() else \"cpu\")\n",
    "print(DEVICE)"
   ]
  },
  {
   "cell_type": "markdown",
   "metadata": {},
   "source": [
    "# Select A Dataset\n",
    "* Datasets are h5py binary files\n",
    "* Each contains an array with the Transformer embeddings for each molecule\n",
    "* And additional arrays with SMILES strings, binding labels, etc."
   ]
  },
  {
   "cell_type": "code",
   "execution_count": 47,
   "metadata": {},
   "outputs": [
    {
     "name": "stdout",
     "output_type": "stream",
     "text": [
      "['hiv1_protease_2.hdf5']\n"
     ]
    }
   ],
   "source": [
    "#how many epochs was the transformer trained before generating embeddings?\n",
    "epoch_id = \"2\"\n",
    "\n",
    "assays = os.listdir(embeddings_path)\n",
    "if epoch_id is not None:\n",
    "    #assays = [assay for assay in assays if assay.split(\".\")[0].split(\"_\")[-1] == str(epoch_id)]\n",
    "    assays = [assay for assay in assays if assay.split(\".\")[0].split(\"_\")[-1] == str(epoch_id)]\n",
    "print(assays)"
   ]
  },
  {
   "cell_type": "code",
   "execution_count": 11,
   "metadata": {},
   "outputs": [
    {
     "name": "stdout",
     "output_type": "stream",
     "text": [
      "embeddings/hiv1_protease_2.hdf5\n"
     ]
    }
   ],
   "source": [
    "#Set assay_idx to the index of the desired h5py file in the above list\n",
    "assay_idx = 0\n",
    "assay_path = os.path.join(embeddings_path, assays[assay_idx])\n",
    "print(assay_path)"
   ]
  },
  {
   "cell_type": "markdown",
   "metadata": {},
   "source": [
    "# Load and Prepare Data"
   ]
  },
  {
   "cell_type": "code",
   "execution_count": 12,
   "metadata": {},
   "outputs": [],
   "source": [
    "#load dataset\n",
    "assay = h5py.File(assay_path, 'r')"
   ]
  },
  {
   "cell_type": "code",
   "execution_count": 13,
   "metadata": {},
   "outputs": [],
   "source": [
    "embeddings = assay['embeddings'] #embeddings array\n",
    "labels_result = assay['result'] #numeric assay result\n",
    "labels_binding = assay['binding'] #0 or 1 (\"not binding\" / \"binding\")\n",
    "smiles_enc = assay['smiles'] #smiles strings"
   ]
  },
  {
   "cell_type": "code",
   "execution_count": 14,
   "metadata": {},
   "outputs": [
    {
     "name": "stdout",
     "output_type": "stream",
     "text": [
      "7462 molecules\n",
      "59 training batches\n"
     ]
    }
   ],
   "source": [
    "num_iters = int(math.ceil(embeddings.shape[0] / BATCH_SIZE))\n",
    "print(F'{embeddings.shape[0]} molecules')\n",
    "print(F'{num_iters} training batches')"
   ]
  },
  {
   "cell_type": "code",
   "execution_count": 15,
   "metadata": {},
   "outputs": [],
   "source": [
    "binding = labels_binding[:]"
   ]
  },
  {
   "cell_type": "code",
   "execution_count": 16,
   "metadata": {},
   "outputs": [
    {
     "data": {
      "text/plain": [
       "2159"
      ]
     },
     "execution_count": 16,
     "metadata": {},
     "output_type": "execute_result"
    }
   ],
   "source": [
    "binding.sum() #how many \"binding\" molecules"
   ]
  },
  {
   "cell_type": "code",
   "execution_count": 17,
   "metadata": {},
   "outputs": [],
   "source": [
    "def undersample(idxs, labels, ratio=1):\n",
    "    no_bind_idxs = idxs[labels[idxs]==0]\n",
    "    bind_idxs = idxs[labels[idxs]==1]\n",
    "    min_len = min(len(bind_idxs), len(no_bind_idxs)) * ratio\n",
    "    \n",
    "    np.random.shuffle(no_bind_idxs)\n",
    "    np.random.shuffle(bind_idxs)\n",
    "    \n",
    "    no_bind_idxs = no_bind_idxs[:min_len]\n",
    "    bind_idxs = bind_idxs[:min_len]\n",
    "    \n",
    "    idxs = np.concatenate((no_bind_idxs, bind_idxs))\n",
    "    np.random.shuffle(idxs)\n",
    "    \n",
    "    return idxs"
   ]
  },
  {
   "cell_type": "code",
   "execution_count": 18,
   "metadata": {},
   "outputs": [
    {
     "data": {
      "text/plain": [
       "(4318,)"
      ]
     },
     "execution_count": 18,
     "metadata": {},
     "output_type": "execute_result"
    }
   ],
   "source": [
    "#increase ratio to include more \"non-binding\" samples\n",
    "idxs = undersample(np.arange(len(binding)), binding, ratio=1)\n",
    "idxs.shape"
   ]
  },
  {
   "cell_type": "code",
   "execution_count": 19,
   "metadata": {},
   "outputs": [],
   "source": [
    "def reduce_data(data, idxs):\n",
    "    return [torch.tensor(np.stack([d[idx] for idx in idxs])) for d in data]"
   ]
  },
  {
   "cell_type": "code",
   "execution_count": 20,
   "metadata": {},
   "outputs": [
    {
     "name": "stdout",
     "output_type": "stream",
     "text": [
      "torch.Size([4318, 256, 512]) torch.Size([4318, 256]) torch.Size([4318])\n"
     ]
    }
   ],
   "source": [
    "#create pytorch tensors from the arrays\n",
    "e, sm, y = reduce_data([embeddings, smiles_enc, binding], idxs)\n",
    "print(e.shape, sm.shape, y.shape)"
   ]
  },
  {
   "cell_type": "code",
   "execution_count": 21,
   "metadata": {},
   "outputs": [
    {
     "name": "stdout",
     "output_type": "stream",
     "text": [
      "torch.Size([4318, 256, 512]) torch.FloatTensor\n"
     ]
    }
   ],
   "source": [
    "#generate random projections of smiles strings (equivalent to the random projections produced by an untrained transformer)\n",
    "#this serves the same purpose as classifying SMILES strings directly\n",
    "#the hard-coded embedding size here should be adjusted to match trained embedding size (printed above)\n",
    "random_projection = (torch.randn(98,512))\n",
    "s = random_projection[(sm * 98).long().flatten(),:].view(-1, 256, 512)\n",
    "print(s.shape, s.type())"
   ]
  },
  {
   "cell_type": "code",
   "execution_count": 22,
   "metadata": {},
   "outputs": [
    {
     "data": {
      "text/plain": [
       "31"
      ]
     },
     "execution_count": 22,
     "metadata": {},
     "output_type": "execute_result"
    }
   ],
   "source": [
    "#count of batches in a training epoch\n",
    "PRINT_ITERS = int(math.ceil(y.shape[0]*9//10 / BATCH_SIZE))\n",
    "PRINT_ITERS"
   ]
  },
  {
   "cell_type": "markdown",
   "metadata": {},
   "source": [
    "# Create Classifier and Helper Functions for Training"
   ]
  },
  {
   "cell_type": "markdown",
   "metadata": {},
   "source": [
    "### Batch Generator\n",
    "* will randomly iterate over the arrays"
   ]
  },
  {
   "cell_type": "code",
   "execution_count": 23,
   "metadata": {},
   "outputs": [],
   "source": [
    "def get_batch_iter(arrays, batch_size, idxs, device):\n",
    "    device_tensor = functools.partial(torch.tensor, device=device)\n",
    "    array_len = idxs.shape[0]\n",
    "    p = np.random.permutation(idxs)\n",
    "    for i in range(0, array_len, batch_size):\n",
    "        indexes = p[i:min(i+batch_size, array_len)]\n",
    "        #indexes.sort()\n",
    "        batches = [arr[list(indexes)] for arr in arrays]\n",
    "        \n",
    "        p2 = np.random.permutation(len(indexes))\n",
    "        batches = [batch[p2] for batch in batches]\n",
    "        \n",
    "        yield tuple(map(device_tensor, batches))"
   ]
  },
  {
   "cell_type": "markdown",
   "metadata": {},
   "source": [
    "### Classifier\n",
    "* Here a simple, fully connected network is used\n",
    "* This can be replaced with a different or more complex classifier"
   ]
  },
  {
   "cell_type": "code",
   "execution_count": 24,
   "metadata": {},
   "outputs": [],
   "source": [
    "class FC(nn.Module):\n",
    "    def __init__(self, input_features=256*512, activation=F.relu):\n",
    "        super(FC, self).__init__()\n",
    "        self.act = activation\n",
    "        self.input_size = input_features\n",
    "        \n",
    "        self.dim1 = 500\n",
    "        self.dim2 = 100\n",
    "        \n",
    "        self.fc1 = nn.Linear(self.input_size, self.dim1)\n",
    "        self.fc2 = nn.Linear(self.dim1, self.dim1)\n",
    "        self.dropout = nn.Dropout(p=0.8)\n",
    "        \n",
    "        self.fc3 = nn.Linear(self.dim1, self.dim2)\n",
    "        self.fc4 = nn.Linear(self.dim2, 2)\n",
    "        \n",
    "    def forward(self, x):\n",
    "        x = x.view(-1, self.input_size)\n",
    "        x = self.act(self.fc1(x))\n",
    "        x = self.fc2(x)\n",
    "        x = self.dropout(self.act(x))\n",
    "        \n",
    "        x_int = self.fc3(x)\n",
    "        x = self.fc4(self.act(x_int))\n",
    "        \n",
    "        return x, x_int"
   ]
  },
  {
   "cell_type": "markdown",
   "metadata": {},
   "source": [
    "### Helper Functions"
   ]
  },
  {
   "cell_type": "code",
   "execution_count": 25,
   "metadata": {},
   "outputs": [],
   "source": [
    "def print_update(epoch=0, iters=0, mode=\"TRAIN\", loss=0, acc=0, c0=0, c1=0):\n",
    "    print(\"{mode:>5}- E:{epoch:2d}- I:{iters:4d} loss:{loss:6.3f}, acc:{acc:6.2f}%, c0:{c0:5.1f}%, c1:{c1:5.1f}%\".format(epoch=epoch, iters=iters, mode=mode, loss=loss, acc=acc*100, c0=c0*100, c1=c1*100))"
   ]
  },
  {
   "cell_type": "code",
   "execution_count": 26,
   "metadata": {},
   "outputs": [],
   "source": [
    "def calc_accuracy(preds, labels):\n",
    "    pred_idx = torch.max(preds, 1)[1]\n",
    "    return (pred_idx == labels).to(torch.float).mean().item()"
   ]
  },
  {
   "cell_type": "code",
   "execution_count": 27,
   "metadata": {},
   "outputs": [],
   "source": [
    "def calc_class_accuracies(preds, labels):\n",
    "    class_accs = []\n",
    "    for i in range(int(labels.max().item()) + 1):\n",
    "        class_idxs = torch.nonzero(labels==i)\n",
    "        class_labels = labels[class_idxs]\n",
    "        class_preds = preds[class_idxs]\n",
    "        class_pred_idx = torch.max(class_preds, -1)[1]\n",
    "        class_acc = (class_pred_idx == class_labels).to(torch.float).mean().item()\n",
    "        class_accs.append(class_acc)\n",
    "    return class_accs"
   ]
  },
  {
   "cell_type": "code",
   "execution_count": 28,
   "metadata": {},
   "outputs": [],
   "source": [
    "def train_epoch(epoch, x, y, idxs):\n",
    "    model.train()\n",
    "    running_loss = 0\n",
    "    running_preds_cls, running_binding = [], []\n",
    "    optimizer.zero_grad()\n",
    "    for i, (embedding, label_binding) in enumerate(get_batch_iter([x, y],  BATCH_SIZE, idxs, DEVICE)):\n",
    "        label_binding = label_binding.to(torch.long)\n",
    "        preds_cls, _ = model(embedding)\n",
    "        \n",
    "        loss = 0\n",
    "        \n",
    "        loss_cls = criterion(preds_cls, label_binding)\n",
    "        loss += loss_cls\n",
    "        running_preds_cls.append(preds_cls)\n",
    "        running_binding.append(label_binding)\n",
    "            \n",
    "        loss.backward()\n",
    "        \n",
    "        optimizer.step()\n",
    "        sched.step()\n",
    "        optimizer.zero_grad()\n",
    "\n",
    "        running_loss += loss.item()\n",
    "        \n",
    "        if (i+1) % PRINT_ITERS == 0:\n",
    "            acc, class_accs = 0, [0, 0]\n",
    "            \n",
    "            running_preds_cls = torch.cat(running_preds_cls)\n",
    "            running_binding = torch.cat(running_binding)\n",
    "            acc = calc_accuracy(running_preds_cls, running_binding)\n",
    "            class_accs = calc_class_accuracies(running_preds_cls, running_binding)\n",
    "            \n",
    "            print_update(epoch=epoch, iters=i+1, loss=running_loss / PRINT_ITERS, acc=acc, c0=class_accs[0], c1=class_accs[1])\n",
    "            \n",
    "            running_loss = 0\n",
    "            running_preds_cls, running_binding = [], []"
   ]
  },
  {
   "cell_type": "code",
   "execution_count": 29,
   "metadata": {},
   "outputs": [],
   "source": [
    "def test_epoch(epoch, x, y, idxs):\n",
    "    model.eval()\n",
    "    with torch.no_grad():\n",
    "        all_preds_cls, all_binding, all_preds_int = [], [], []\n",
    "        for i, (embedding, label_binding) in enumerate(get_batch_iter([x, y],  BATCH_SIZE, idxs, DEVICE)):\n",
    "            label_binding = label_binding.to(torch.long)\n",
    "            preds_cls, preds_int = model(embedding)\n",
    "            all_preds_cls.append(preds_cls)\n",
    "            all_binding.append(label_binding)\n",
    "            all_preds_int.append(preds_int)\n",
    "            \n",
    "        all_preds_cls = torch.cat(all_preds_cls)\n",
    "        all_binding = torch.cat(all_binding)\n",
    "        all_preds_int = torch.cat(all_preds_int)\n",
    "        \n",
    "        loss = 0\n",
    "        \n",
    "        loss_cls = criterion(all_preds_cls, all_binding).item()\n",
    "        loss += loss_cls\n",
    "        \n",
    "        acc, class_accs = 0, [0, 0]\n",
    "        \n",
    "        acc = calc_accuracy(all_preds_cls, all_binding)\n",
    "        class_accs = calc_class_accuracies(all_preds_cls, all_binding)\n",
    "        \n",
    "    print_update(mode=\"TEST\", epoch=epoch, iters=i+1, loss=loss, acc=acc, c0=class_accs[0], c1=class_accs[1])\n",
    "    \n",
    "    return loss, acc, class_accs, all_preds_cls, all_preds_int, all_binding"
   ]
  },
  {
   "cell_type": "code",
   "execution_count": 30,
   "metadata": {},
   "outputs": [],
   "source": [
    "min_test_idxs = int(len(idxs)/10)"
   ]
  },
  {
   "cell_type": "markdown",
   "metadata": {},
   "source": [
    "# Training Loop\n",
    "* Outer loop runs once for each embedding type (trained vs untrained)\n",
    "* Uses cross-validation\n",
    "* Training metrics are printed sequentially\n",
    "* Predictions are saved in cv_accs, cv_labs, cv_preds for results calculations"
   ]
  },
  {
   "cell_type": "code",
   "execution_count": 31,
   "metadata": {
    "scrolled": true
   },
   "outputs": [
    {
     "name": "stderr",
     "output_type": "stream",
     "text": [
      "/usr/local/lib/python3.6/dist-packages/ipykernel_launcher.py:13: UserWarning: To copy construct from a tensor, it is recommended to use sourceTensor.clone().detach() or sourceTensor.clone().detach().requires_grad_(True), rather than torch.tensor(sourceTensor).\n",
      "  del sys.path[0]\n"
     ]
    },
    {
     "name": "stdout",
     "output_type": "stream",
     "text": [
      "TRAIN- E: 1- I:  31 loss: 0.179, acc: 92.82%, c0: 90.4%, c1: 95.2%\n",
      " TEST- E: 1- I:   4 loss: 0.029, acc: 99.31%, c0: 99.5%, c1: 99.1%\n",
      "TRAIN- E: 2- I:  31 loss: 0.034, acc: 99.18%, c0: 99.1%, c1: 99.3%\n",
      " TEST- E: 2- I:   4 loss: 0.025, acc: 99.31%, c0: 99.5%, c1: 99.1%\n",
      "TRAIN- E: 3- I:  31 loss: 0.017, acc: 99.54%, c0: 99.5%, c1: 99.6%\n",
      " TEST- E: 3- I:   4 loss: 0.027, acc: 99.07%, c0: 99.1%, c1: 99.1%\n",
      "TRAIN- E: 4- I:  31 loss: 0.004, acc: 99.92%, c0: 99.9%, c1: 99.9%\n",
      " TEST- E: 4- I:   4 loss: 0.048, acc: 98.84%, c0: 99.1%, c1: 98.6%\n",
      " TEST- E: 0- I:   4 loss: 0.048, acc: 98.84%, c0: 99.1%, c1: 98.6%\n",
      "TRAIN- E: 1- I:  31 loss: 0.190, acc: 92.15%, c0: 92.5%, c1: 91.8%\n",
      " TEST- E: 1- I:   4 loss: 0.066, acc: 98.84%, c0: 98.6%, c1: 99.1%\n",
      "TRAIN- E: 2- I:  31 loss: 0.023, acc: 99.18%, c0: 99.3%, c1: 99.0%\n",
      " TEST- E: 2- I:   4 loss: 0.075, acc: 98.38%, c0: 97.2%, c1: 99.5%\n",
      "TRAIN- E: 3- I:  31 loss: 0.018, acc: 99.64%, c0: 99.5%, c1: 99.8%\n",
      " TEST- E: 3- I:   4 loss: 0.113, acc: 97.92%, c0: 97.7%, c1: 98.1%\n",
      " TEST- E: 0- I:   4 loss: 0.113, acc: 97.92%, c0: 97.7%, c1: 98.1%\n",
      "TRAIN- E: 1- I:  31 loss: 0.223, acc: 90.84%, c0: 89.7%, c1: 92.0%\n",
      " TEST- E: 1- I:   4 loss: 0.057, acc: 99.31%, c0: 99.5%, c1: 99.1%\n",
      "TRAIN- E: 2- I:  31 loss: 0.038, acc: 98.87%, c0: 98.6%, c1: 99.2%\n",
      " TEST- E: 2- I:   4 loss: 0.033, acc: 99.54%, c0: 99.5%, c1: 99.5%\n",
      "TRAIN- E: 3- I:  31 loss: 0.016, acc: 99.54%, c0: 99.5%, c1: 99.5%\n",
      " TEST- E: 3- I:   4 loss: 0.048, acc: 99.31%, c0: 99.1%, c1: 99.5%\n",
      "TRAIN- E: 4- I:  31 loss: 0.003, acc: 99.97%, c0: 99.9%, c1:100.0%\n",
      " TEST- E: 4- I:   4 loss: 0.073, acc: 98.38%, c0: 99.5%, c1: 97.2%\n",
      " TEST- E: 0- I:   4 loss: 0.073, acc: 98.38%, c0: 99.5%, c1: 97.2%\n",
      "TRAIN- E: 1- I:  31 loss: 0.183, acc: 92.07%, c0: 91.7%, c1: 92.4%\n",
      " TEST- E: 1- I:   4 loss: 0.046, acc: 99.07%, c0: 98.6%, c1: 99.5%\n",
      "TRAIN- E: 2- I:  31 loss: 0.027, acc: 99.23%, c0: 99.0%, c1: 99.4%\n",
      " TEST- E: 2- I:   4 loss: 0.046, acc: 99.07%, c0: 98.1%, c1:100.0%\n",
      "TRAIN- E: 3- I:  31 loss: 0.009, acc: 99.77%, c0: 99.7%, c1: 99.8%\n",
      " TEST- E: 3- I:   4 loss: 0.057, acc: 98.84%, c0: 97.7%, c1:100.0%\n",
      "TRAIN- E: 4- I:  31 loss: 0.004, acc: 99.90%, c0: 99.9%, c1: 99.8%\n",
      " TEST- E: 4- I:   4 loss: 0.168, acc: 97.45%, c0: 94.9%, c1:100.0%\n",
      " TEST- E: 0- I:   4 loss: 0.168, acc: 97.45%, c0: 94.9%, c1:100.0%\n",
      "TRAIN- E: 1- I:  31 loss: 0.166, acc: 93.28%, c0: 94.2%, c1: 92.3%\n",
      " TEST- E: 1- I:   4 loss: 0.062, acc: 97.45%, c0: 96.8%, c1: 98.1%\n",
      "TRAIN- E: 2- I:  31 loss: 0.028, acc: 99.20%, c0: 99.0%, c1: 99.4%\n",
      " TEST- E: 2- I:   4 loss: 0.055, acc: 99.07%, c0: 99.5%, c1: 98.6%\n",
      "TRAIN- E: 3- I:  31 loss: 0.018, acc: 99.51%, c0: 99.5%, c1: 99.5%\n",
      " TEST- E: 3- I:   4 loss: 0.152, acc: 98.15%, c0: 97.7%, c1: 98.6%\n",
      "TRAIN- E: 4- I:  31 loss: 0.007, acc: 99.90%, c0: 99.9%, c1: 99.9%\n",
      " TEST- E: 4- I:   4 loss: 0.189, acc: 97.45%, c0: 96.3%, c1: 98.6%\n",
      " TEST- E: 0- I:   4 loss: 0.189, acc: 97.45%, c0: 96.3%, c1: 98.6%\n",
      "TRAIN- E: 1- I:  31 loss: 0.183, acc: 92.61%, c0: 89.8%, c1: 95.5%\n",
      " TEST- E: 1- I:   4 loss: 0.032, acc: 98.38%, c0: 97.7%, c1: 99.1%\n",
      "TRAIN- E: 2- I:  31 loss: 0.031, acc: 99.15%, c0: 99.1%, c1: 99.2%\n",
      " TEST- E: 2- I:   4 loss: 0.022, acc: 98.84%, c0: 99.1%, c1: 98.6%\n",
      "TRAIN- E: 3- I:  31 loss: 0.012, acc: 99.67%, c0: 99.5%, c1: 99.8%\n",
      " TEST- E: 3- I:   4 loss: 0.021, acc: 99.54%, c0: 99.1%, c1:100.0%\n",
      "TRAIN- E: 4- I:  31 loss: 0.004, acc: 99.85%, c0: 99.7%, c1: 99.9%\n",
      " TEST- E: 4- I:   4 loss: 0.023, acc: 98.84%, c0: 99.1%, c1: 98.6%\n",
      "TRAIN- E: 5- I:  31 loss: 0.004, acc: 99.82%, c0: 99.8%, c1: 99.8%\n",
      " TEST- E: 5- I:   4 loss: 0.049, acc: 98.61%, c0: 97.2%, c1:100.0%\n",
      " TEST- E: 0- I:   4 loss: 0.049, acc: 98.61%, c0: 97.2%, c1:100.0%\n",
      "TRAIN- E: 1- I:  31 loss: 0.174, acc: 92.64%, c0: 93.1%, c1: 92.2%\n",
      " TEST- E: 1- I:   4 loss: 0.024, acc: 99.54%, c0: 99.5%, c1: 99.5%\n",
      "TRAIN- E: 2- I:  31 loss: 0.024, acc: 99.10%, c0: 99.2%, c1: 99.0%\n",
      " TEST- E: 2- I:   4 loss: 0.015, acc: 99.77%, c0: 99.5%, c1:100.0%\n",
      "TRAIN- E: 3- I:  31 loss: 0.023, acc: 99.49%, c0: 99.3%, c1: 99.6%\n",
      " TEST- E: 3- I:   4 loss: 0.015, acc: 99.54%, c0: 99.5%, c1: 99.5%\n",
      "TRAIN- E: 4- I:  31 loss: 0.007, acc: 99.82%, c0: 99.8%, c1: 99.8%\n",
      " TEST- E: 4- I:   4 loss: 0.014, acc: 99.77%, c0:100.0%, c1: 99.5%\n",
      "TRAIN- E: 5- I:  31 loss: 0.009, acc: 99.77%, c0: 99.7%, c1: 99.8%\n",
      " TEST- E: 5- I:   4 loss: 0.060, acc: 99.31%, c0: 99.5%, c1: 99.1%\n",
      "TRAIN- E: 6- I:  31 loss: 0.006, acc: 99.92%, c0:100.0%, c1: 99.8%\n",
      " TEST- E: 6- I:   4 loss: 0.062, acc: 99.54%, c0: 99.5%, c1: 99.5%\n",
      " TEST- E: 0- I:   4 loss: 0.062, acc: 99.54%, c0: 99.5%, c1: 99.5%\n",
      "TRAIN- E: 1- I:  31 loss: 0.167, acc: 93.31%, c0: 92.2%, c1: 94.4%\n",
      " TEST- E: 1- I:   4 loss: 0.066, acc: 98.61%, c0: 97.2%, c1:100.0%\n",
      "TRAIN- E: 2- I:  31 loss: 0.033, acc: 98.94%, c0: 99.0%, c1: 98.9%\n",
      " TEST- E: 2- I:   4 loss: 0.094, acc: 97.92%, c0: 95.8%, c1:100.0%\n",
      "TRAIN- E: 3- I:  31 loss: 0.019, acc: 99.49%, c0: 99.4%, c1: 99.6%\n",
      " TEST- E: 3- I:   4 loss: 0.049, acc: 99.07%, c0: 98.1%, c1:100.0%\n",
      "TRAIN- E: 4- I:  31 loss: 0.005, acc: 99.85%, c0: 99.8%, c1: 99.8%\n",
      " TEST- E: 4- I:   4 loss: 0.099, acc: 98.38%, c0: 96.8%, c1:100.0%\n",
      "TRAIN- E: 5- I:  31 loss: 0.001, acc:100.00%, c0:100.0%, c1:100.0%\n",
      " TEST- E: 5- I:   4 loss: 0.093, acc: 98.84%, c0: 97.7%, c1:100.0%\n",
      "TRAIN- E: 6- I:  31 loss: 0.000, acc:100.00%, c0:100.0%, c1:100.0%\n",
      " TEST- E: 6- I:   4 loss: 0.142, acc: 98.61%, c0: 97.2%, c1:100.0%\n",
      "TRAIN- E: 7- I:  31 loss: 0.001, acc: 99.97%, c0: 99.9%, c1:100.0%\n",
      " TEST- E: 7- I:   4 loss: 0.088, acc: 99.07%, c0: 98.1%, c1:100.0%\n",
      "TRAIN- E: 8- I:  31 loss: 0.000, acc:100.00%, c0:100.0%, c1:100.0%\n",
      " TEST- E: 8- I:   4 loss: 0.144, acc: 98.61%, c0: 97.2%, c1:100.0%\n",
      "TRAIN- E: 9- I:  31 loss: 0.006, acc: 99.92%, c0: 99.9%, c1: 99.9%\n",
      " TEST- E: 9- I:   4 loss: 0.088, acc: 98.84%, c0: 97.7%, c1:100.0%\n",
      "TRAIN- E:10- I:  31 loss: 0.011, acc: 99.69%, c0: 99.7%, c1: 99.7%\n",
      " TEST- E:10- I:   4 loss: 0.462, acc: 96.53%, c0: 93.1%, c1:100.0%\n",
      " TEST- E: 0- I:   4 loss: 0.462, acc: 96.53%, c0: 93.1%, c1:100.0%\n",
      "TRAIN- E: 1- I:  31 loss: 0.190, acc: 92.51%, c0: 90.9%, c1: 94.1%\n",
      " TEST- E: 1- I:   4 loss: 0.068, acc: 98.38%, c0: 99.5%, c1: 97.2%\n",
      "TRAIN- E: 2- I:  31 loss: 0.032, acc: 99.05%, c0: 98.8%, c1: 99.3%\n",
      " TEST- E: 2- I:   4 loss: 0.054, acc: 98.84%, c0: 99.5%, c1: 98.1%\n",
      "TRAIN- E: 3- I:  31 loss: 0.013, acc: 99.56%, c0: 99.4%, c1: 99.7%\n",
      " TEST- E: 3- I:   4 loss: 0.075, acc: 98.84%, c0: 98.6%, c1: 99.1%\n",
      "TRAIN- E: 4- I:  31 loss: 0.003, acc: 99.90%, c0: 99.8%, c1: 99.9%\n",
      " TEST- E: 4- I:   4 loss: 0.092, acc: 99.07%, c0: 99.5%, c1: 98.6%\n",
      " TEST- E: 0- I:   4 loss: 0.092, acc: 99.07%, c0: 99.5%, c1: 98.6%\n",
      "TRAIN- E: 1- I:  31 loss: 0.221, acc: 91.15%, c0: 88.6%, c1: 93.7%\n",
      " TEST- E: 1- I:   4 loss: 0.050, acc: 98.38%, c0: 97.2%, c1: 99.5%\n",
      "TRAIN- E: 2- I:  31 loss: 0.043, acc: 98.77%, c0: 98.1%, c1: 99.4%\n",
      " TEST- E: 2- I:   4 loss: 0.034, acc: 98.84%, c0: 98.6%, c1: 99.1%\n",
      "TRAIN- E: 3- I:  31 loss: 0.014, acc: 99.64%, c0: 99.5%, c1: 99.7%\n",
      " TEST- E: 3- I:   4 loss: 0.075, acc: 98.38%, c0: 97.7%, c1: 99.1%\n",
      "TRAIN- E: 4- I:  31 loss: 0.001, acc: 99.97%, c0: 99.9%, c1:100.0%\n",
      " TEST- E: 4- I:   4 loss: 0.059, acc: 98.61%, c0: 98.1%, c1: 99.1%\n",
      "TRAIN- E: 5- I:  31 loss: 0.008, acc: 99.82%, c0: 99.8%, c1: 99.8%\n",
      " TEST- E: 5- I:   4 loss: 0.088, acc: 98.38%, c0: 97.2%, c1: 99.5%\n",
      "TRAIN- E: 6- I:  31 loss: 0.001, acc: 99.97%, c0: 99.9%, c1:100.0%\n",
      " TEST- E: 6- I:   4 loss: 0.034, acc: 99.30%, c0: 99.5%, c1: 99.1%\n",
      "TRAIN- E: 7- I:  31 loss: 0.001, acc: 99.95%, c0: 99.9%, c1:100.0%\n",
      " TEST- E: 7- I:   4 loss: 0.045, acc: 99.07%, c0: 99.5%, c1: 98.6%\n",
      "TRAIN- E: 8- I:  31 loss: 0.005, acc: 99.79%, c0: 99.8%, c1: 99.8%\n",
      " TEST- E: 8- I:   4 loss: 0.090, acc: 98.38%, c0: 98.6%, c1: 98.1%\n",
      " TEST- E: 0- I:   4 loss: 0.090, acc: 98.38%, c0: 98.6%, c1: 98.1%\n",
      "[0.99305558 0.98842591 0.99537039 0.99074078 0.99074078 0.99537039\n",
      " 0.99768519 0.96527779 0.98839903 0.99303943]\n"
     ]
    },
    {
     "name": "stderr",
     "output_type": "stream",
     "text": [
      "/usr/local/lib/python3.6/dist-packages/ipykernel_launcher.py:13: UserWarning: To copy construct from a tensor, it is recommended to use sourceTensor.clone().detach() or sourceTensor.clone().detach().requires_grad_(True), rather than torch.tensor(sourceTensor).\n",
      "  del sys.path[0]\n"
     ]
    },
    {
     "name": "stdout",
     "output_type": "stream",
     "text": [
      "TRAIN- E: 1- I:  31 loss: 2.200, acc: 73.06%, c0: 73.1%, c1: 73.0%\n",
      " TEST- E: 1- I:   4 loss: 0.341, acc: 86.57%, c0: 85.2%, c1: 88.0%\n",
      "TRAIN- E: 2- I:  31 loss: 0.439, acc: 84.59%, c0: 82.6%, c1: 86.6%\n",
      " TEST- E: 2- I:   4 loss: 0.307, acc: 87.50%, c0: 84.3%, c1: 90.7%\n",
      "TRAIN- E: 3- I:  31 loss: 0.377, acc: 85.25%, c0: 83.2%, c1: 87.3%\n",
      " TEST- E: 3- I:   4 loss: 0.284, acc: 88.66%, c0: 91.2%, c1: 86.1%\n",
      "TRAIN- E: 4- I:  31 loss: 0.304, acc: 88.21%, c0: 85.6%, c1: 90.8%\n",
      " TEST- E: 4- I:   4 loss: 0.265, acc: 87.27%, c0: 86.1%, c1: 88.4%\n",
      "TRAIN- E: 5- I:  31 loss: 0.314, acc: 87.78%, c0: 87.0%, c1: 88.5%\n",
      " TEST- E: 5- I:   4 loss: 0.266, acc: 88.89%, c0: 84.3%, c1: 93.5%\n",
      "TRAIN- E: 6- I:  31 loss: 0.241, acc: 91.10%, c0: 90.1%, c1: 92.1%\n",
      " TEST- E: 6- I:   4 loss: 0.368, acc: 81.48%, c0: 98.6%, c1: 64.4%\n",
      " TEST- E: 0- I:   4 loss: 0.368, acc: 81.48%, c0: 98.6%, c1: 64.4%\n",
      "TRAIN- E: 1- I:  31 loss: 2.938, acc: 71.59%, c0: 72.1%, c1: 71.1%\n",
      " TEST- E: 1- I:   4 loss: 0.316, acc: 86.81%, c0: 75.9%, c1: 97.7%\n",
      "TRAIN- E: 2- I:  31 loss: 0.424, acc: 84.05%, c0: 83.2%, c1: 84.9%\n",
      " TEST- E: 2- I:   4 loss: 0.292, acc: 88.89%, c0: 80.6%, c1: 97.2%\n",
      "TRAIN- E: 3- I:  31 loss: 0.343, acc: 86.34%, c0: 83.9%, c1: 88.8%\n",
      " TEST- E: 3- I:   4 loss: 0.277, acc: 89.58%, c0: 90.3%, c1: 88.9%\n",
      "TRAIN- E: 4- I:  31 loss: 0.284, acc: 89.11%, c0: 86.1%, c1: 92.2%\n",
      " TEST- E: 4- I:   4 loss: 0.235, acc: 90.97%, c0: 88.4%, c1: 93.5%\n",
      "TRAIN- E: 5- I:  31 loss: 0.273, acc: 89.24%, c0: 88.1%, c1: 90.4%\n",
      " TEST- E: 5- I:   4 loss: 0.227, acc: 92.36%, c0: 87.5%, c1: 97.2%\n",
      "TRAIN- E: 6- I:  31 loss: 0.201, acc: 92.51%, c0: 91.6%, c1: 93.4%\n",
      " TEST- E: 6- I:   4 loss: 0.207, acc: 92.59%, c0: 89.8%, c1: 95.4%\n",
      "TRAIN- E: 7- I:  31 loss: 0.178, acc: 93.77%, c0: 93.7%, c1: 93.9%\n",
      " TEST- E: 7- I:   4 loss: 0.218, acc: 91.90%, c0: 90.3%, c1: 93.5%\n",
      "TRAIN- E: 8- I:  31 loss: 0.174, acc: 93.34%, c0: 93.6%, c1: 93.1%\n",
      " TEST- E: 8- I:   4 loss: 0.345, acc: 89.81%, c0: 81.0%, c1: 98.6%\n",
      " TEST- E: 0- I:   4 loss: 0.345, acc: 89.81%, c0: 81.0%, c1: 98.6%\n",
      "TRAIN- E: 1- I:  31 loss: 2.031, acc: 72.34%, c0: 70.8%, c1: 73.9%\n",
      " TEST- E: 1- I:   4 loss: 0.282, acc: 91.20%, c0: 89.8%, c1: 92.6%\n",
      "TRAIN- E: 2- I:  31 loss: 0.465, acc: 82.01%, c0: 80.3%, c1: 83.7%\n",
      " TEST- E: 2- I:   4 loss: 0.281, acc: 91.90%, c0: 89.8%, c1: 94.0%\n",
      "TRAIN- E: 3- I:  31 loss: 0.349, acc: 87.29%, c0: 84.5%, c1: 90.1%\n",
      " TEST- E: 3- I:   4 loss: 0.247, acc: 91.90%, c0: 89.8%, c1: 94.0%\n",
      "TRAIN- E: 4- I:  31 loss: 0.306, acc: 88.65%, c0: 85.4%, c1: 91.9%\n",
      " TEST- E: 4- I:   4 loss: 0.260, acc: 91.20%, c0: 84.7%, c1: 97.7%\n",
      "TRAIN- E: 5- I:  31 loss: 0.270, acc: 89.40%, c0: 87.2%, c1: 91.6%\n",
      " TEST- E: 5- I:   4 loss: 0.177, acc: 94.21%, c0: 92.6%, c1: 95.8%\n",
      "TRAIN- E: 6- I:  31 loss: 0.224, acc: 91.15%, c0: 90.4%, c1: 91.9%\n",
      " TEST- E: 6- I:   4 loss: 0.165, acc: 93.29%, c0: 89.4%, c1: 97.2%\n",
      "TRAIN- E: 7- I:  31 loss: 0.205, acc: 92.56%, c0: 91.1%, c1: 94.0%\n",
      " TEST- E: 7- I:   4 loss: 0.145, acc: 93.75%, c0: 93.1%, c1: 94.4%\n",
      "TRAIN- E: 8- I:  31 loss: 0.159, acc: 94.47%, c0: 94.3%, c1: 94.6%\n",
      " TEST- E: 8- I:   4 loss: 0.195, acc: 92.82%, c0: 87.5%, c1: 98.1%\n",
      "TRAIN- E: 9- I:  31 loss: 0.137, acc: 94.78%, c0: 94.7%, c1: 94.9%\n",
      " TEST- E: 9- I:   4 loss: 0.136, acc: 94.21%, c0: 97.2%, c1: 91.2%\n",
      "TRAIN- E:10- I:  31 loss: 0.169, acc: 93.44%, c0: 93.3%, c1: 93.6%\n",
      " TEST- E:10- I:   4 loss: 0.152, acc: 94.91%, c0: 93.1%, c1: 96.8%\n",
      " TEST- E: 0- I:   4 loss: 0.152, acc: 94.91%, c0: 93.1%, c1: 96.8%\n",
      "TRAIN- E: 1- I:  31 loss: 2.121, acc: 73.73%, c0: 72.1%, c1: 75.4%\n",
      " TEST- E: 1- I:   4 loss: 0.358, acc: 85.19%, c0: 73.6%, c1: 96.8%\n",
      "TRAIN- E: 2- I:  31 loss: 0.424, acc: 84.15%, c0: 82.7%, c1: 85.6%\n",
      " TEST- E: 2- I:   4 loss: 0.319, acc: 87.27%, c0: 83.3%, c1: 91.2%\n",
      "TRAIN- E: 3- I:  31 loss: 0.334, acc: 87.08%, c0: 84.7%, c1: 89.4%\n",
      " TEST- E: 3- I:   4 loss: 0.294, acc: 88.89%, c0: 83.3%, c1: 94.4%\n",
      "TRAIN- E: 4- I:  31 loss: 0.288, acc: 88.63%, c0: 86.5%, c1: 90.8%\n",
      " TEST- E: 4- I:   4 loss: 0.277, acc: 88.19%, c0: 86.1%, c1: 90.3%\n",
      "TRAIN- E: 5- I:  31 loss: 0.273, acc: 89.73%, c0: 87.9%, c1: 91.6%\n",
      " TEST- E: 5- I:   4 loss: 0.253, acc: 88.89%, c0: 86.1%, c1: 91.7%\n",
      "TRAIN- E: 6- I:  31 loss: 0.214, acc: 92.28%, c0: 90.2%, c1: 94.4%\n",
      " TEST- E: 6- I:   4 loss: 0.261, acc: 89.81%, c0: 86.1%, c1: 93.5%\n",
      "TRAIN- E: 7- I:  31 loss: 0.198, acc: 92.64%, c0: 90.9%, c1: 94.4%\n",
      " TEST- E: 7- I:   4 loss: 0.248, acc: 89.58%, c0: 83.8%, c1: 95.4%\n",
      "TRAIN- E: 8- I:  31 loss: 0.145, acc: 94.78%, c0: 93.5%, c1: 96.1%\n",
      " TEST- E: 8- I:   4 loss: 0.246, acc: 90.05%, c0: 87.5%, c1: 92.6%\n",
      "TRAIN- E: 9- I:  31 loss: 0.124, acc: 95.50%, c0: 94.5%, c1: 96.4%\n",
      " TEST- E: 9- I:   4 loss: 0.251, acc: 89.81%, c0: 83.8%, c1: 95.8%\n",
      "TRAIN- E:10- I:  31 loss: 0.149, acc: 94.60%, c0: 93.6%, c1: 95.6%\n",
      " TEST- E:10- I:   4 loss: 0.210, acc: 92.13%, c0: 92.1%, c1: 92.1%\n",
      " TEST- E: 0- I:   4 loss: 0.210, acc: 92.13%, c0: 92.1%, c1: 92.1%\n",
      "TRAIN- E: 1- I:  31 loss: 3.283, acc: 68.17%, c0: 69.7%, c1: 66.6%\n",
      " TEST- E: 1- I:   4 loss: 0.373, acc: 83.33%, c0: 70.4%, c1: 96.3%\n",
      "TRAIN- E: 2- I:  31 loss: 0.468, acc: 82.81%, c0: 80.9%, c1: 84.8%\n",
      " TEST- E: 2- I:   4 loss: 0.337, acc: 86.81%, c0: 87.5%, c1: 86.1%\n",
      "TRAIN- E: 3- I:  31 loss: 0.368, acc: 86.10%, c0: 84.3%, c1: 87.9%\n",
      " TEST- E: 3- I:   4 loss: 0.329, acc: 87.50%, c0: 82.9%, c1: 92.1%\n",
      "TRAIN- E: 4- I:  31 loss: 0.309, acc: 88.65%, c0: 85.4%, c1: 91.9%\n",
      " TEST- E: 4- I:   4 loss: 0.308, acc: 88.43%, c0: 81.9%, c1: 94.9%\n",
      "TRAIN- E: 5- I:  31 loss: 0.263, acc: 89.48%, c0: 87.4%, c1: 91.5%\n",
      " TEST- E: 5- I:   4 loss: 0.245, acc: 90.05%, c0: 87.0%, c1: 93.1%\n",
      "TRAIN- E: 6- I:  31 loss: 0.205, acc: 92.36%, c0: 90.9%, c1: 93.8%\n",
      " TEST- E: 6- I:   4 loss: 0.251, acc: 91.20%, c0: 87.5%, c1: 94.9%\n",
      "TRAIN- E: 7- I:  31 loss: 0.188, acc: 92.69%, c0: 91.4%, c1: 94.0%\n",
      " TEST- E: 7- I:   4 loss: 0.220, acc: 90.51%, c0: 91.2%, c1: 89.8%\n",
      "TRAIN- E: 8- I:  31 loss: 0.145, acc: 95.27%, c0: 94.3%, c1: 96.2%\n",
      " TEST- E: 8- I:   4 loss: 0.240, acc: 90.74%, c0: 86.6%, c1: 94.9%\n",
      "TRAIN- E: 9- I:  31 loss: 0.179, acc: 93.15%, c0: 93.0%, c1: 93.3%\n",
      " TEST- E: 9- I:   4 loss: 0.280, acc: 90.28%, c0: 83.3%, c1: 97.2%\n",
      " TEST- E: 0- I:   4 loss: 0.280, acc: 90.28%, c0: 83.3%, c1: 97.2%\n",
      "TRAIN- E: 1- I:  31 loss: 3.331, acc: 69.45%, c0: 69.5%, c1: 69.4%\n",
      " TEST- E: 1- I:   4 loss: 0.365, acc: 85.42%, c0: 75.5%, c1: 95.4%\n",
      "TRAIN- E: 2- I:  31 loss: 0.477, acc: 83.50%, c0: 81.5%, c1: 85.5%\n",
      " TEST- E: 2- I:   4 loss: 0.323, acc: 87.96%, c0: 83.3%, c1: 92.6%\n",
      "TRAIN- E: 3- I:  31 loss: 0.373, acc: 86.10%, c0: 83.5%, c1: 88.7%\n",
      " TEST- E: 3- I:   4 loss: 0.304, acc: 87.73%, c0: 84.3%, c1: 91.2%\n",
      "TRAIN- E: 4- I:  31 loss: 0.296, acc: 88.86%, c0: 85.6%, c1: 92.1%\n",
      " TEST- E: 4- I:   4 loss: 0.312, acc: 87.27%, c0: 87.0%, c1: 87.5%\n",
      "TRAIN- E: 5- I:  31 loss: 0.275, acc: 89.60%, c0: 86.8%, c1: 92.4%\n",
      " TEST- E: 5- I:   4 loss: 0.257, acc: 89.35%, c0: 86.6%, c1: 92.1%\n",
      "TRAIN- E: 6- I:  31 loss: 0.241, acc: 91.38%, c0: 88.7%, c1: 94.1%\n",
      " TEST- E: 6- I:   4 loss: 0.253, acc: 91.67%, c0: 90.7%, c1: 92.6%\n",
      "TRAIN- E: 7- I:  31 loss: 0.192, acc: 92.72%, c0: 90.3%, c1: 95.2%\n",
      " TEST- E: 7- I:   4 loss: 0.200, acc: 91.90%, c0: 88.0%, c1: 95.8%\n",
      "TRAIN- E: 8- I:  31 loss: 0.170, acc: 93.62%, c0: 91.3%, c1: 96.0%\n",
      " TEST- E: 8- I:   4 loss: 0.278, acc: 90.28%, c0: 94.9%, c1: 85.6%\n",
      "TRAIN- E: 9- I:  31 loss: 0.186, acc: 92.69%, c0: 91.2%, c1: 94.2%\n",
      " TEST- E: 9- I:   4 loss: 0.199, acc: 91.90%, c0: 88.4%, c1: 95.4%\n",
      "TRAIN- E:10- I:  31 loss: 0.155, acc: 93.67%, c0: 91.6%, c1: 95.7%\n",
      " TEST- E:10- I:   4 loss: 0.197, acc: 91.90%, c0: 88.4%, c1: 95.4%\n",
      " TEST- E: 0- I:   4 loss: 0.197, acc: 91.90%, c0: 88.4%, c1: 95.4%\n",
      "TRAIN- E: 1- I:  31 loss: 2.663, acc: 69.99%, c0: 70.5%, c1: 69.5%\n",
      " TEST- E: 1- I:   4 loss: 0.315, acc: 86.81%, c0: 78.7%, c1: 94.9%\n",
      "TRAIN- E: 2- I:  31 loss: 0.423, acc: 84.12%, c0: 82.2%, c1: 86.1%\n",
      " TEST- E: 2- I:   4 loss: 0.315, acc: 86.34%, c0: 77.8%, c1: 94.9%\n",
      "TRAIN- E: 3- I:  31 loss: 0.363, acc: 86.08%, c0: 83.7%, c1: 88.5%\n",
      " TEST- E: 3- I:   4 loss: 0.268, acc: 91.44%, c0: 88.0%, c1: 94.9%\n",
      "TRAIN- E: 4- I:  31 loss: 0.288, acc: 88.83%, c0: 86.4%, c1: 91.3%\n",
      " TEST- E: 4- I:   4 loss: 0.305, acc: 92.82%, c0: 93.5%, c1: 92.1%\n",
      "TRAIN- E: 5- I:  31 loss: 0.263, acc: 89.89%, c0: 88.3%, c1: 91.5%\n",
      " TEST- E: 5- I:   4 loss: 0.249, acc: 91.90%, c0: 87.5%, c1: 96.3%\n",
      "TRAIN- E: 6- I:  31 loss: 0.215, acc: 91.82%, c0: 90.2%, c1: 93.5%\n",
      " TEST- E: 6- I:   4 loss: 0.216, acc: 92.13%, c0: 94.4%, c1: 89.8%\n"
     ]
    },
    {
     "name": "stdout",
     "output_type": "stream",
     "text": [
      "TRAIN- E: 7- I:  31 loss: 0.219, acc: 91.79%, c0: 91.2%, c1: 92.4%\n",
      " TEST- E: 7- I:   4 loss: 0.179, acc: 93.98%, c0: 94.9%, c1: 93.1%\n",
      "TRAIN- E: 8- I:  31 loss: 0.180, acc: 93.34%, c0: 91.8%, c1: 94.9%\n",
      " TEST- E: 8- I:   4 loss: 0.188, acc: 93.29%, c0: 94.9%, c1: 91.7%\n",
      "TRAIN- E: 9- I:  31 loss: 0.141, acc: 95.01%, c0: 93.5%, c1: 96.5%\n",
      " TEST- E: 9- I:   4 loss: 0.150, acc: 95.37%, c0: 95.8%, c1: 94.9%\n",
      "TRAIN- E:10- I:  31 loss: 0.131, acc: 94.57%, c0: 94.1%, c1: 95.0%\n",
      " TEST- E:10- I:   4 loss: 0.179, acc: 94.21%, c0: 97.7%, c1: 90.7%\n",
      " TEST- E: 0- I:   4 loss: 0.179, acc: 94.21%, c0: 97.7%, c1: 90.7%\n",
      "TRAIN- E: 1- I:  31 loss: 1.781, acc: 74.70%, c0: 72.6%, c1: 76.8%\n",
      " TEST- E: 1- I:   4 loss: 0.393, acc: 88.19%, c0: 84.3%, c1: 92.1%\n",
      "TRAIN- E: 2- I:  31 loss: 0.445, acc: 84.25%, c0: 82.0%, c1: 86.5%\n",
      " TEST- E: 2- I:   4 loss: 0.348, acc: 88.43%, c0: 84.3%, c1: 92.6%\n",
      "TRAIN- E: 3- I:  31 loss: 0.380, acc: 85.46%, c0: 82.8%, c1: 88.1%\n",
      " TEST- E: 3- I:   4 loss: 0.304, acc: 89.58%, c0: 86.6%, c1: 92.6%\n",
      "TRAIN- E: 4- I:  31 loss: 0.316, acc: 87.96%, c0: 85.2%, c1: 90.7%\n",
      " TEST- E: 4- I:   4 loss: 0.328, acc: 89.12%, c0: 81.9%, c1: 96.3%\n",
      "TRAIN- E: 5- I:  31 loss: 0.287, acc: 88.52%, c0: 85.6%, c1: 91.5%\n",
      " TEST- E: 5- I:   4 loss: 0.244, acc: 90.97%, c0: 89.4%, c1: 92.6%\n",
      "TRAIN- E: 6- I:  31 loss: 0.219, acc: 91.64%, c0: 89.7%, c1: 93.6%\n",
      " TEST- E: 6- I:   4 loss: 0.222, acc: 92.13%, c0: 89.4%, c1: 94.9%\n",
      "TRAIN- E: 7- I:  31 loss: 0.221, acc: 91.12%, c0: 90.3%, c1: 92.0%\n",
      " TEST- E: 7- I:   4 loss: 0.208, acc: 92.59%, c0: 91.2%, c1: 94.0%\n",
      "TRAIN- E: 8- I:  31 loss: 0.180, acc: 93.95%, c0: 93.5%, c1: 94.4%\n",
      " TEST- E: 8- I:   4 loss: 0.186, acc: 91.67%, c0: 89.4%, c1: 94.0%\n",
      "TRAIN- E: 9- I:  31 loss: 0.147, acc: 94.62%, c0: 94.2%, c1: 95.0%\n",
      " TEST- E: 9- I:   4 loss: 0.192, acc: 92.82%, c0: 90.7%, c1: 94.9%\n",
      "TRAIN- E:10- I:  31 loss: 0.153, acc: 94.42%, c0: 94.6%, c1: 94.2%\n",
      " TEST- E:10- I:   4 loss: 0.186, acc: 92.59%, c0: 90.7%, c1: 94.4%\n",
      " TEST- E: 0- I:   4 loss: 0.186, acc: 92.59%, c0: 90.7%, c1: 94.4%\n",
      "TRAIN- E: 1- I:  31 loss: 2.740, acc: 69.36%, c0: 71.4%, c1: 67.3%\n",
      " TEST- E: 1- I:   4 loss: 0.376, acc: 86.31%, c0: 77.3%, c1: 95.3%\n",
      "TRAIN- E: 2- I:  31 loss: 0.432, acc: 83.82%, c0: 82.3%, c1: 85.3%\n",
      " TEST- E: 2- I:   4 loss: 0.332, acc: 87.94%, c0: 84.7%, c1: 91.2%\n",
      "TRAIN- E: 3- I:  31 loss: 0.352, acc: 87.21%, c0: 84.7%, c1: 89.8%\n",
      " TEST- E: 3- I:   4 loss: 0.324, acc: 88.40%, c0: 85.2%, c1: 91.6%\n",
      "TRAIN- E: 4- I:  31 loss: 0.289, acc: 89.17%, c0: 86.4%, c1: 91.9%\n",
      " TEST- E: 4- I:   4 loss: 0.309, acc: 89.33%, c0: 83.3%, c1: 95.3%\n",
      "TRAIN- E: 5- I:  31 loss: 0.261, acc: 89.84%, c0: 87.8%, c1: 91.9%\n",
      " TEST- E: 5- I:   4 loss: 0.269, acc: 90.49%, c0: 86.6%, c1: 94.4%\n",
      "TRAIN- E: 6- I:  31 loss: 0.229, acc: 90.10%, c0: 88.6%, c1: 91.6%\n",
      " TEST- E: 6- I:   4 loss: 0.319, acc: 89.79%, c0: 83.3%, c1: 96.3%\n",
      "TRAIN- E: 7- I:  31 loss: 0.224, acc: 90.94%, c0: 89.8%, c1: 92.1%\n",
      " TEST- E: 7- I:   4 loss: 0.229, acc: 90.72%, c0: 88.9%, c1: 92.6%\n",
      "TRAIN- E: 8- I:  31 loss: 0.179, acc: 93.18%, c0: 92.5%, c1: 93.9%\n",
      " TEST- E: 8- I:   4 loss: 0.276, acc: 91.42%, c0: 85.6%, c1: 97.2%\n",
      "TRAIN- E: 9- I:  31 loss: 0.189, acc: 93.18%, c0: 92.0%, c1: 94.3%\n",
      " TEST- E: 9- I:   4 loss: 0.210, acc: 92.11%, c0: 91.2%, c1: 93.0%\n",
      "TRAIN- E:10- I:  31 loss: 0.151, acc: 94.73%, c0: 94.0%, c1: 95.5%\n",
      " TEST- E:10- I:   4 loss: 0.209, acc: 92.58%, c0: 89.8%, c1: 95.3%\n",
      " TEST- E: 0- I:   4 loss: 0.209, acc: 92.58%, c0: 89.8%, c1: 95.3%\n",
      "TRAIN- E: 1- I:  31 loss: 2.386, acc: 71.85%, c0: 70.1%, c1: 73.6%\n",
      " TEST- E: 1- I:   4 loss: 0.357, acc: 87.70%, c0: 87.0%, c1: 88.4%\n",
      "TRAIN- E: 2- I:  31 loss: 0.482, acc: 83.35%, c0: 81.2%, c1: 85.5%\n",
      " TEST- E: 2- I:   4 loss: 0.321, acc: 87.24%, c0: 83.7%, c1: 90.7%\n",
      "TRAIN- E: 3- I:  31 loss: 0.385, acc: 86.13%, c0: 83.5%, c1: 88.7%\n",
      " TEST- E: 3- I:   4 loss: 0.300, acc: 88.17%, c0: 90.7%, c1: 85.6%\n",
      "TRAIN- E: 4- I:  31 loss: 0.316, acc: 88.45%, c0: 85.9%, c1: 91.0%\n",
      " TEST- E: 4- I:   4 loss: 0.284, acc: 88.40%, c0: 90.7%, c1: 86.1%\n",
      "TRAIN- E: 5- I:  31 loss: 0.275, acc: 89.30%, c0: 87.8%, c1: 90.8%\n",
      " TEST- E: 5- I:   4 loss: 0.242, acc: 89.56%, c0: 92.6%, c1: 86.6%\n",
      "TRAIN- E: 6- I:  31 loss: 0.224, acc: 92.31%, c0: 91.7%, c1: 92.9%\n",
      " TEST- E: 6- I:   4 loss: 0.450, acc: 75.87%, c0: 99.5%, c1: 52.3%\n",
      "TRAIN- E: 7- I:  31 loss: 0.235, acc: 91.00%, c0: 90.3%, c1: 91.7%\n",
      " TEST- E: 7- I:   4 loss: 0.202, acc: 91.42%, c0: 94.4%, c1: 88.4%\n",
      "TRAIN- E: 8- I:  31 loss: 0.182, acc: 93.72%, c0: 93.2%, c1: 94.2%\n",
      " TEST- E: 8- I:   4 loss: 0.421, acc: 84.69%, c0: 70.2%, c1: 99.1%\n",
      "TRAIN- E: 9- I:  31 loss: 0.159, acc: 93.90%, c0: 93.3%, c1: 94.5%\n",
      " TEST- E: 9- I:   4 loss: 0.169, acc: 92.81%, c0: 97.2%, c1: 88.4%\n",
      "TRAIN- E:10- I:  31 loss: 0.147, acc: 94.60%, c0: 94.8%, c1: 94.4%\n",
      " TEST- E:10- I:   4 loss: 0.249, acc: 89.79%, c0: 80.5%, c1: 99.1%\n",
      " TEST- E: 0- I:   4 loss: 0.249, acc: 89.79%, c0: 80.5%, c1: 99.1%\n",
      "[0.87268519 0.92592591 0.94907409 0.9212963  0.9050926  0.91898149\n",
      " 0.94212961 0.92592591 0.92575401 0.89791179]\n"
     ]
    }
   ],
   "source": [
    "cv = StratifiedKFold(n_splits=10)\n",
    "comp_accs, comp_labs, comp_preds = [], [], []\n",
    "for x in [e, s]: #embedding (e), untrained embedding (s)\n",
    "    cv_accs, cv_labs, cv_preds = [], [], []\n",
    "    for i, (train_idxs, test_idxs) in enumerate(cv.split(x, y)):\n",
    "        model = FC(input_features=np.prod(x.shape[1:])).to(DEVICE)\n",
    "        criterion = nn.CrossEntropyLoss()\n",
    "        optimizer = torch.optim.Adam(model.parameters(), lr=0.001, betas=(0.9, 0.98), eps=1e-9)\n",
    "        sched = CosineWithRestarts(optimizer, T_max=num_iters)\n",
    "        \n",
    "        test_losses, test_accs = [], []\n",
    "        for epoch in range(1, EPOCHS + 1):\n",
    "            train_epoch(epoch, x, y, train_idxs)\n",
    "            loss, acc, class_accs, all_preds, all_int, all_labels = test_epoch(epoch, x, y, test_idxs)\n",
    "            test_losses.append(loss)\n",
    "            test_accs.append(acc)\n",
    "            if epoch > 2:\n",
    "                comp = np.array(test_losses)\n",
    "                comp = (comp[1:] - comp[:-1]) <= 0\n",
    "                if not np.any(comp[-2:]):\n",
    "                    test_accs[-1] = test_accs[-3]\n",
    "                    break\n",
    "        cv_accs.append(test_accs[-1])\n",
    "        \n",
    "        loss, accuracy, class_accs, all_preds, all_int, all_labels = test_epoch(0, x, y, test_idxs)\n",
    "        all_labels, all_preds = all_labels.cpu().numpy(), all_preds.cpu().numpy()\n",
    "        all_preds = F.softmax(torch.tensor(all_preds), dim=1).numpy()[:,1]\n",
    "        cv_labs.append(all_labels[:min_test_idxs])\n",
    "        cv_preds.append(all_preds[:min_test_idxs])\n",
    "        \n",
    "    print(np.array(cv_accs))\n",
    "    comp_accs.append(np.array(cv_accs))\n",
    "    comp_labs.append(np.array(cv_labs))\n",
    "    comp_preds.append(np.array(cv_preds))\n",
    "\n",
    "comp_accs = np.array(comp_accs)\n",
    "comp_labs = np.array(comp_labs)\n",
    "comp_preds = np.array(comp_preds)"
   ]
  },
  {
   "cell_type": "code",
   "execution_count": 35,
   "metadata": {},
   "outputs": [],
   "source": [
    "#save softmax predictions of each output neuron\n",
    "#for each CV test fold, for each embedding type\n",
    "#also save accuracy and labels for convenience\n",
    "\n",
    "#this filename needs to be changed manually for the dataset used\n",
    "np.savez(\"result_arrays/hiv1_protease.npz\", accs=comp_accs, labs=comp_labs, preds=comp_preds)"
   ]
  },
  {
   "cell_type": "markdown",
   "metadata": {},
   "source": [
    "# Calculate and Plot AUC\n",
    "* This should be done after the notebook is run (and predictions are saved) for each dataset"
   ]
  },
  {
   "cell_type": "code",
   "execution_count": 32,
   "metadata": {},
   "outputs": [],
   "source": [
    "import os\n",
    "import numpy as np\n",
    "import matplotlib.pyplot as plt\n",
    "from scipy import interp\n",
    "from sklearn.metrics import plot_roc_curve, roc_curve, roc_auc_score, auc"
   ]
  },
  {
   "cell_type": "code",
   "execution_count": 33,
   "metadata": {},
   "outputs": [],
   "source": [
    "plt.style.use('ggplot')"
   ]
  },
  {
   "cell_type": "code",
   "execution_count": 35,
   "metadata": {},
   "outputs": [
    {
     "name": "stdout",
     "output_type": "stream",
     "text": [
      "['1053197.npz', 'hiv1_protease.npz', '652067.npz']\n"
     ]
    }
   ],
   "source": [
    "#list all result files\n",
    "result_files = os.listdir('result_arrays/')\n",
    "result_files = [x for x in result_files if x.endswith(\".npz\")]\n",
    "print(result_files)"
   ]
  },
  {
   "cell_type": "code",
   "execution_count": 36,
   "metadata": {},
   "outputs": [
    {
     "name": "stdout",
     "output_type": "stream",
     "text": [
      "['HIV-1 Protease', 'AID 652067', 'AID 1053197']\n"
     ]
    }
   ],
   "source": [
    "keep_idxs = [1, 2, 0] #which idxs from the above list to include\n",
    "\n",
    "result_files = [result_files[i] for i in keep_idxs]\n",
    "#result_names = [x.strip('.npz') for x in result_files]\n",
    "method_names = [\"Trained Embedding\", \"Untrained Embedding\"]\n",
    "result_names = [\"HIV-1 Protease\", \"AID 652067\", \"AID 1053197\"]\n",
    "print(result_names)"
   ]
  },
  {
   "cell_type": "code",
   "execution_count": 37,
   "metadata": {},
   "outputs": [
    {
     "name": "stdout",
     "output_type": "stream",
     "text": [
      "(3, 3, 10)\n"
     ]
    }
   ],
   "source": [
    "#load prediction arrays\n",
    "\n",
    "dataset_accs = []\n",
    "dataset_labs = []\n",
    "dataset_preds = []\n",
    "for f in result_files:\n",
    "    content = np.load('result_arrays/' + f)\n",
    "    accs, labs, preds = content['accs'], content['labs'], content['preds']\n",
    "    dataset_accs.append(accs)\n",
    "    dataset_labs.append(labs)\n",
    "    dataset_preds.append(preds)\n",
    "dataset_accs = np.stack(dataset_accs) * 100\n",
    "print(dataset_accs.shape)"
   ]
  },
  {
   "cell_type": "code",
   "execution_count": 39,
   "metadata": {},
   "outputs": [
    {
     "name": "stdout",
     "output_type": "stream",
     "text": [
      "0.9971403962101636 0.003524335175656271\n",
      "0.9742721791559003 0.006981712323884425\n",
      "0.8201234993096884 0.012760672628385036\n",
      "0.6975959322646484 0.10275752885030509\n",
      "0.6718014705882354 0.016866273245640436\n",
      "0.4999923406862745 0.0031683462016273527\n"
     ]
    },
    {
     "data": {
      "image/png": "[encoded data removed]",
      "text/plain": [
       "<Figure size 1008x288 with 3 Axes>"
      ]
     },
     "metadata": {},
     "output_type": "display_data"
    },
    {
     "name": "stdout",
     "output_type": "stream",
     "text": [
      "0.9971403962101636 0.003524335175656271\n",
      "0.9742721791559003 0.006981712323884425\n",
      "0.8201234993096884 0.012760672628385036\n",
      "0.6975959322646484 0.10275752885030509\n",
      "0.6718014705882354 0.016866273245640436\n",
      "0.4999923406862745 0.0031683462016273527\n"
     ]
    },
    {
     "data": {
      "image/png": "[encoded data removed]",
      "text/plain": [
       "<Figure size 360x864 with 3 Axes>"
      ]
     },
     "metadata": {},
     "output_type": "display_data"
    }
   ],
   "source": [
    "#matplotlib plotting code\n",
    "\n",
    "cmap = plt.get_cmap('Set1')\n",
    "sigma = 2\n",
    "for layout in [\"horiz\", \"vert\"]:\n",
    "    plt.rcParams[\"figure.figsize\"] = (14, 4) if layout == \"horiz\" else (5, 12)\n",
    "    \n",
    "    if layout == \"horiz\":\n",
    "        fig, ax = plt.subplots(ncols=3)\n",
    "    else:\n",
    "        fig, ax = plt.subplots(nrows=3)\n",
    "    for dataset in range(3):\n",
    "        for method in range(2):\n",
    "            aucs, tprs = [], []\n",
    "            mean_fpr = np.linspace(0, 1, 100)\n",
    "            for fold in range(10):\n",
    "                labs = dataset_labs[dataset][method,fold]\n",
    "                preds = dataset_preds[dataset][method,fold]\n",
    "                fpr, tpr, thresholds = roc_curve(labs, preds)\n",
    "                interp_tpr = interp(mean_fpr, fpr, tpr)\n",
    "                interp_tpr[0] = 0.0\n",
    "                tprs.append(interp_tpr)\n",
    "                aucs.append(roc_auc_score(labs, preds))\n",
    "                #plt.plot(fpr, tpr, c=cmap(method))\n",
    "\n",
    "            mean_tpr = np.mean(tprs, axis=0)\n",
    "            mean_tpr[-1] = 1.0\n",
    "            mean_auc = auc(mean_fpr, mean_tpr)\n",
    "            ax[dataset].set_xlabel(\"False Positive Rate\")\n",
    "            ax[dataset].set_ylabel(\"True Positive Rate\")\n",
    "            ax[dataset].plot(mean_fpr, mean_tpr, c=cmap(method), \n",
    "                             label=method_names[method] + \" (AUC = %0.2f)\" % (mean_auc))\n",
    "\n",
    "            std_tpr = np.std(tprs, axis=0) * sigma\n",
    "            tprs_upper = np.minimum(mean_tpr + std_tpr, 1)\n",
    "            tprs_lower = np.maximum(mean_tpr - std_tpr, 0)\n",
    "\n",
    "            ax[dataset].fill_between(mean_fpr, tprs_lower, tprs_upper, \n",
    "                            color=cmap(method), alpha=0.2)\n",
    "            ax[dataset].legend(loc='lower right')\n",
    "            ax[dataset].set(xlim=[-.02,1.02], ylim=[-.02, 1.02])\n",
    "            ax[dataset].set_title(result_names[dataset])\n",
    "\n",
    "            aucs = np.array(aucs)\n",
    "            print(aucs.mean(), aucs.std())\n",
    "\n",
    "    plt.tight_layout()\n",
    "    #plt.gcf().subplots_adjust(bottom=0.15)\n",
    "    #plt.savefig('result_figures/roc_auc_revised_' + layout + '.png', dpi=300)\n",
    "    plt.show()"
   ]
  },
  {
   "cell_type": "code",
   "execution_count": null,
   "metadata": {},
   "outputs": [],
   "source": []
  },
  {
   "cell_type": "code",
   "execution_count": null,
   "metadata": {},
   "outputs": [],
   "source": []
  },
  {
   "cell_type": "code",
   "execution_count": null,
   "metadata": {},
   "outputs": [],
   "source": []
  },
  {
   "cell_type": "code",
   "execution_count": null,
   "metadata": {},
   "outputs": [],
   "source": []
  },
  {
   "cell_type": "code",
   "execution_count": null,
   "metadata": {},
   "outputs": [],
   "source": []
  },
  {
   "cell_type": "code",
   "execution_count": null,
   "metadata": {},
   "outputs": [],
   "source": []
  },
  {
   "cell_type": "code",
   "execution_count": null,
   "metadata": {},
   "outputs": [],
   "source": []
  }
 ],
 "metadata": {
  "kernelspec": {
   "display_name": "Python 3",
   "language": "python",
   "name": "python3"
  },
  "language_info": {
   "codemirror_mode": {
    "name": "ipython",
    "version": 3
   },
   "file_extension": ".py",
   "mimetype": "text/x-python",
   "name": "python",
   "nbconvert_exporter": "python",
   "pygments_lexer": "ipython3",
   "version": "3.6.8"
  }
 },
 "nbformat": 4,
 "nbformat_minor": 2
}
